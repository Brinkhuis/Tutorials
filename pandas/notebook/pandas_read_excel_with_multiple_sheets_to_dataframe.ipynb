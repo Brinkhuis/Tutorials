{
 "cells": [
  {
   "cell_type": "markdown",
   "metadata": {},
   "source": [
    "# Read excel file with multiple sheets into a dataframe"
   ]
  },
  {
   "cell_type": "code",
   "execution_count": 1,
   "metadata": {},
   "outputs": [
    {
     "name": "stdout",
     "output_type": "stream",
     "text": [
      "pandas: 0.23.4\n"
     ]
    }
   ],
   "source": [
    "import pandas as pd\n",
    "print('pandas:', pd.__version__)"
   ]
  },
  {
   "cell_type": "markdown",
   "metadata": {},
   "source": [
    "### generate excel file with multiple sheets"
   ]
  },
  {
   "cell_type": "markdown",
   "metadata": {},
   "source": [
    "Please install package `openpyxl` when not installed with `conda install openpyxl` or `pip install openpyxl`."
   ]
  },
  {
   "cell_type": "code",
   "execution_count": 2,
   "metadata": {},
   "outputs": [
    {
     "name": "stdout",
     "output_type": "stream",
     "text": [
      "Excel file saved to disk with 5 sheets.\n"
     ]
    }
   ],
   "source": [
    "!python ../script/create_excel.py 5 ../sourcedata/my_excel.xlsx"
   ]
  },
  {
   "cell_type": "markdown",
   "metadata": {},
   "source": [
    "### read all sheets from excel file"
   ]
  },
  {
   "cell_type": "code",
   "execution_count": 3,
   "metadata": {
    "scrolled": true
   },
   "outputs": [],
   "source": [
    "# read excel file\n",
    "data = pd.read_excel('../sourcedata/my_excel.xlsx', sheet_name=None)"
   ]
  },
  {
   "cell_type": "code",
   "execution_count": 4,
   "metadata": {},
   "outputs": [
    {
     "data": {
      "text/plain": [
       "collections.OrderedDict"
      ]
     },
     "execution_count": 4,
     "metadata": {},
     "output_type": "execute_result"
    }
   ],
   "source": [
    "# type\n",
    "type(data)"
   ]
  },
  {
   "cell_type": "code",
   "execution_count": 5,
   "metadata": {},
   "outputs": [
    {
     "data": {
      "text/plain": [
       "OrderedDict([('2013',   region    Q1    Q2    Q3    Q4\n",
       "              0  North  1270  1175  1573  1949\n",
       "              1   East  1591  1376  1909  1245\n",
       "              2  South  1415  1074  1475  1709\n",
       "              3   West  1514  1600  1960  1411),\n",
       "             ('2014',   region    Q1    Q2    Q3    Q4\n",
       "              0  North  1840  1956  1610  1299\n",
       "              1   East  1897  1119  1518  1714\n",
       "              2  South  1814  1403  1115  1128\n",
       "              3   West  1034  1169  1231  1376),\n",
       "             ('2015',   region    Q1    Q2    Q3    Q4\n",
       "              0  North  1290  1087  1479  1511\n",
       "              1   East  1412  1615  1742  1793\n",
       "              2  South  1025  1704  1286  1090\n",
       "              3   West  1816  1909  1221  1355),\n",
       "             ('2016',   region    Q1    Q2    Q3    Q4\n",
       "              0  North  1546  1237  1872  1424\n",
       "              1   East  1864  1531  1281  1905\n",
       "              2  South  1837  1467  1345  1887\n",
       "              3   West  1111  1054  1031  1277),\n",
       "             ('2017',   region    Q1    Q2    Q3    Q4\n",
       "              0  North  1205  1798  1261  1624\n",
       "              1   East  1624  1848  1175  1499\n",
       "              2  South  1115  1170  1417  1303\n",
       "              3   West  1587  1327  1530  1231)])"
      ]
     },
     "execution_count": 5,
     "metadata": {},
     "output_type": "execute_result"
    }
   ],
   "source": [
    "# display data\n",
    "data"
   ]
  },
  {
   "cell_type": "markdown",
   "metadata": {},
   "source": [
    "### transform to dataframe"
   ]
  },
  {
   "cell_type": "code",
   "execution_count": 6,
   "metadata": {},
   "outputs": [],
   "source": [
    "# create dataframe\n",
    "df = pd.DataFrame()"
   ]
  },
  {
   "cell_type": "code",
   "execution_count": 7,
   "metadata": {},
   "outputs": [],
   "source": [
    "# append sheets to dataframe\n",
    "df = pd.DataFrame()\n",
    "for sheet in data.keys():\n",
    "    df_sheet = data[sheet]\n",
    "    df_sheet['sheet'] = [sheet for _ in range(df_sheet.shape[0])]\n",
    "    df = df.append(df_sheet, ignore_index=True)"
   ]
  },
  {
   "cell_type": "code",
   "execution_count": 8,
   "metadata": {},
   "outputs": [
    {
     "data": {
      "text/html": [
       "<div>\n",
       "<style scoped>\n",
       "    .dataframe tbody tr th:only-of-type {\n",
       "        vertical-align: middle;\n",
       "    }\n",
       "\n",
       "    .dataframe tbody tr th {\n",
       "        vertical-align: top;\n",
       "    }\n",
       "\n",
       "    .dataframe thead th {\n",
       "        text-align: right;\n",
       "    }\n",
       "</style>\n",
       "<table border=\"1\" class=\"dataframe\">\n",
       "  <thead>\n",
       "    <tr style=\"text-align: right;\">\n",
       "      <th></th>\n",
       "      <th>region</th>\n",
       "      <th>Q1</th>\n",
       "      <th>Q2</th>\n",
       "      <th>Q3</th>\n",
       "      <th>Q4</th>\n",
       "      <th>sheet</th>\n",
       "    </tr>\n",
       "  </thead>\n",
       "  <tbody>\n",
       "    <tr>\n",
       "      <th>0</th>\n",
       "      <td>North</td>\n",
       "      <td>1270</td>\n",
       "      <td>1175</td>\n",
       "      <td>1573</td>\n",
       "      <td>1949</td>\n",
       "      <td>2013</td>\n",
       "    </tr>\n",
       "    <tr>\n",
       "      <th>1</th>\n",
       "      <td>East</td>\n",
       "      <td>1591</td>\n",
       "      <td>1376</td>\n",
       "      <td>1909</td>\n",
       "      <td>1245</td>\n",
       "      <td>2013</td>\n",
       "    </tr>\n",
       "    <tr>\n",
       "      <th>2</th>\n",
       "      <td>South</td>\n",
       "      <td>1415</td>\n",
       "      <td>1074</td>\n",
       "      <td>1475</td>\n",
       "      <td>1709</td>\n",
       "      <td>2013</td>\n",
       "    </tr>\n",
       "    <tr>\n",
       "      <th>3</th>\n",
       "      <td>West</td>\n",
       "      <td>1514</td>\n",
       "      <td>1600</td>\n",
       "      <td>1960</td>\n",
       "      <td>1411</td>\n",
       "      <td>2013</td>\n",
       "    </tr>\n",
       "    <tr>\n",
       "      <th>4</th>\n",
       "      <td>North</td>\n",
       "      <td>1840</td>\n",
       "      <td>1956</td>\n",
       "      <td>1610</td>\n",
       "      <td>1299</td>\n",
       "      <td>2014</td>\n",
       "    </tr>\n",
       "    <tr>\n",
       "      <th>5</th>\n",
       "      <td>East</td>\n",
       "      <td>1897</td>\n",
       "      <td>1119</td>\n",
       "      <td>1518</td>\n",
       "      <td>1714</td>\n",
       "      <td>2014</td>\n",
       "    </tr>\n",
       "    <tr>\n",
       "      <th>6</th>\n",
       "      <td>South</td>\n",
       "      <td>1814</td>\n",
       "      <td>1403</td>\n",
       "      <td>1115</td>\n",
       "      <td>1128</td>\n",
       "      <td>2014</td>\n",
       "    </tr>\n",
       "    <tr>\n",
       "      <th>7</th>\n",
       "      <td>West</td>\n",
       "      <td>1034</td>\n",
       "      <td>1169</td>\n",
       "      <td>1231</td>\n",
       "      <td>1376</td>\n",
       "      <td>2014</td>\n",
       "    </tr>\n",
       "    <tr>\n",
       "      <th>8</th>\n",
       "      <td>North</td>\n",
       "      <td>1290</td>\n",
       "      <td>1087</td>\n",
       "      <td>1479</td>\n",
       "      <td>1511</td>\n",
       "      <td>2015</td>\n",
       "    </tr>\n",
       "    <tr>\n",
       "      <th>9</th>\n",
       "      <td>East</td>\n",
       "      <td>1412</td>\n",
       "      <td>1615</td>\n",
       "      <td>1742</td>\n",
       "      <td>1793</td>\n",
       "      <td>2015</td>\n",
       "    </tr>\n",
       "    <tr>\n",
       "      <th>10</th>\n",
       "      <td>South</td>\n",
       "      <td>1025</td>\n",
       "      <td>1704</td>\n",
       "      <td>1286</td>\n",
       "      <td>1090</td>\n",
       "      <td>2015</td>\n",
       "    </tr>\n",
       "    <tr>\n",
       "      <th>11</th>\n",
       "      <td>West</td>\n",
       "      <td>1816</td>\n",
       "      <td>1909</td>\n",
       "      <td>1221</td>\n",
       "      <td>1355</td>\n",
       "      <td>2015</td>\n",
       "    </tr>\n",
       "    <tr>\n",
       "      <th>12</th>\n",
       "      <td>North</td>\n",
       "      <td>1546</td>\n",
       "      <td>1237</td>\n",
       "      <td>1872</td>\n",
       "      <td>1424</td>\n",
       "      <td>2016</td>\n",
       "    </tr>\n",
       "    <tr>\n",
       "      <th>13</th>\n",
       "      <td>East</td>\n",
       "      <td>1864</td>\n",
       "      <td>1531</td>\n",
       "      <td>1281</td>\n",
       "      <td>1905</td>\n",
       "      <td>2016</td>\n",
       "    </tr>\n",
       "    <tr>\n",
       "      <th>14</th>\n",
       "      <td>South</td>\n",
       "      <td>1837</td>\n",
       "      <td>1467</td>\n",
       "      <td>1345</td>\n",
       "      <td>1887</td>\n",
       "      <td>2016</td>\n",
       "    </tr>\n",
       "    <tr>\n",
       "      <th>15</th>\n",
       "      <td>West</td>\n",
       "      <td>1111</td>\n",
       "      <td>1054</td>\n",
       "      <td>1031</td>\n",
       "      <td>1277</td>\n",
       "      <td>2016</td>\n",
       "    </tr>\n",
       "    <tr>\n",
       "      <th>16</th>\n",
       "      <td>North</td>\n",
       "      <td>1205</td>\n",
       "      <td>1798</td>\n",
       "      <td>1261</td>\n",
       "      <td>1624</td>\n",
       "      <td>2017</td>\n",
       "    </tr>\n",
       "    <tr>\n",
       "      <th>17</th>\n",
       "      <td>East</td>\n",
       "      <td>1624</td>\n",
       "      <td>1848</td>\n",
       "      <td>1175</td>\n",
       "      <td>1499</td>\n",
       "      <td>2017</td>\n",
       "    </tr>\n",
       "    <tr>\n",
       "      <th>18</th>\n",
       "      <td>South</td>\n",
       "      <td>1115</td>\n",
       "      <td>1170</td>\n",
       "      <td>1417</td>\n",
       "      <td>1303</td>\n",
       "      <td>2017</td>\n",
       "    </tr>\n",
       "    <tr>\n",
       "      <th>19</th>\n",
       "      <td>West</td>\n",
       "      <td>1587</td>\n",
       "      <td>1327</td>\n",
       "      <td>1530</td>\n",
       "      <td>1231</td>\n",
       "      <td>2017</td>\n",
       "    </tr>\n",
       "  </tbody>\n",
       "</table>\n",
       "</div>"
      ],
      "text/plain": [
       "   region    Q1    Q2    Q3    Q4 sheet\n",
       "0   North  1270  1175  1573  1949  2013\n",
       "1    East  1591  1376  1909  1245  2013\n",
       "2   South  1415  1074  1475  1709  2013\n",
       "3    West  1514  1600  1960  1411  2013\n",
       "4   North  1840  1956  1610  1299  2014\n",
       "5    East  1897  1119  1518  1714  2014\n",
       "6   South  1814  1403  1115  1128  2014\n",
       "7    West  1034  1169  1231  1376  2014\n",
       "8   North  1290  1087  1479  1511  2015\n",
       "9    East  1412  1615  1742  1793  2015\n",
       "10  South  1025  1704  1286  1090  2015\n",
       "11   West  1816  1909  1221  1355  2015\n",
       "12  North  1546  1237  1872  1424  2016\n",
       "13   East  1864  1531  1281  1905  2016\n",
       "14  South  1837  1467  1345  1887  2016\n",
       "15   West  1111  1054  1031  1277  2016\n",
       "16  North  1205  1798  1261  1624  2017\n",
       "17   East  1624  1848  1175  1499  2017\n",
       "18  South  1115  1170  1417  1303  2017\n",
       "19   West  1587  1327  1530  1231  2017"
      ]
     },
     "execution_count": 8,
     "metadata": {},
     "output_type": "execute_result"
    }
   ],
   "source": [
    "# display data\n",
    "df"
   ]
  }
 ],
 "metadata": {
  "kernelspec": {
   "display_name": "Python 3",
   "language": "python",
   "name": "python3"
  },
  "language_info": {
   "codemirror_mode": {
    "name": "ipython",
    "version": 3
   },
   "file_extension": ".py",
   "mimetype": "text/x-python",
   "name": "python",
   "nbconvert_exporter": "python",
   "pygments_lexer": "ipython3",
   "version": "3.6.6"
  }
 },
 "nbformat": 4,
 "nbformat_minor": 2
}
